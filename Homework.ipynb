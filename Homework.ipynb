{
  "nbformat": 4,
  "nbformat_minor": 0,
  "metadata": {
    "colab": {
      "provenance": []
    },
    "kernelspec": {
      "name": "python3",
      "display_name": "Python 3"
    },
    "language_info": {
      "name": "python"
    },
    "accelerator": "GPU",
    "gpuClass": "standard"
  },
  "cells": [
    {
      "cell_type": "code",
      "execution_count": 1,
      "metadata": {
        "colab": {
          "base_uri": "https://localhost:8080/"
        },
        "id": "Gl5BAk8QAtsj",
        "outputId": "adba2c9e-2153-46da-b96d-d9d5c5cc2ca0"
      },
      "outputs": [
        {
          "output_type": "stream",
          "name": "stdout",
          "text": [
            "Mounted at /content/drive\n",
            "/content/drive/MyDrive/Colab Notebooks/data\n"
          ]
        }
      ],
      "source": [
        "from google.colab import drive\n",
        "drive.mount('/content/drive')\n",
        "\n",
        "%cd /content/drive/MyDrive/Colab Notebooks/data\n",
        "!unzip -qq \"/content/drive/MyDrive/Colab Notebooks/data/dataset.zip\""
      ]
    },
    {
      "cell_type": "code",
      "source": [
        "import os\n",
        "from PIL import Image\n",
        "import glob, sys, numpy as np\n",
        "import matplotlib.pyplot as plt\n",
        "\n",
        "base_dir = '/content/drive/MyDrive/Colab Notebooks/data'\n",
        "\n",
        "train_dir = os.path.join(base_dir, 'train')\n",
        "test_dir = os.path.join(base_dir,'test')"
      ],
      "metadata": {
        "id": "z-t6lXgeBB5k"
      },
      "execution_count": 2,
      "outputs": []
    },
    {
      "cell_type": "code",
      "source": [
        "categories = [\"adidas\",\"converse\",\"nike\"]\n",
        "classes = len(categories)\n",
        "\n",
        "list1 = []\n",
        "list2 = []\n",
        "list3 = []\n",
        "list4 = []\n",
        "\n",
        "for idx, name in enumerate(categories):\n",
        "    \n",
        "    #데이터 라벨링.\n",
        "\n",
        "    train_image_dir = train_dir + \"/\" + name\n",
        "    test_image_dir = test_dir + \"/\" + name\n",
        "\n",
        "    train_files = glob.glob(train_image_dir + \"/*.jpg\")\n",
        "    test_files = glob.glob(test_image_dir + \"/*.jpg\")\n",
        "\n",
        "\n",
        "    for i, f in enumerate(train_files):\n",
        "        \n",
        "        img = Image.open(f)\n",
        "        img = img.convert('RGB')\n",
        "        data = np.array(img)\n",
        "        list1.append(data)\n",
        "        X_train = np.array(list1)\n",
        "        list2.append(idx)\n",
        "        y_train = np.array(list2)\n",
        "\n",
        "    for i, f in enumerate(test_files):\n",
        "        img = Image.open(f)\n",
        "        img = img.convert('RGB')\n",
        "        data = np.array(img)\n",
        "        list3.append(data)\n",
        "        X_test = np.array(list3)\n",
        "        list4.append(idx)\n",
        "        y_test = np.array(list4)\n",
        "\n",
        "        "
      ],
      "metadata": {
        "id": "9R7cvhFpBDOh"
      },
      "execution_count": 207,
      "outputs": []
    },
    {
      "cell_type": "code",
      "source": [
        "X_train = X_train.reshape(X_train.shape[0],240,240,3) \n",
        "X_test = X_test.reshape(X_test.shape[0],240,240,3) \n",
        "X_train = X_train.astype('float32')\n",
        "X_test = X_test.astype('float32')\n",
        "X_train = X_train / 255\n",
        "X_test = X_test / 255\n",
        "\n",
        "from tensorflow.keras.utils import to_categorical\n",
        "\n",
        "y_train = to_categorical(y_train,3)\n",
        "y_test = to_categorical(y_test,3)\n",
        "\n",
        "print(y_train[:10])\n",
        "print(y_test[:10])\n"
      ],
      "metadata": {
        "colab": {
          "base_uri": "https://localhost:8080/"
        },
        "id": "lgo9T5bwBGjb",
        "outputId": "532a7b95-ddaa-4a3b-b5ac-b3105732c231"
      },
      "execution_count": 208,
      "outputs": [
        {
          "output_type": "stream",
          "name": "stdout",
          "text": [
            "[[1. 0. 0.]\n",
            " [1. 0. 0.]\n",
            " [1. 0. 0.]\n",
            " [1. 0. 0.]\n",
            " [1. 0. 0.]\n",
            " [1. 0. 0.]\n",
            " [1. 0. 0.]\n",
            " [1. 0. 0.]\n",
            " [1. 0. 0.]\n",
            " [1. 0. 0.]]\n",
            "[[1. 0. 0.]\n",
            " [1. 0. 0.]\n",
            " [1. 0. 0.]\n",
            " [1. 0. 0.]\n",
            " [1. 0. 0.]\n",
            " [1. 0. 0.]\n",
            " [1. 0. 0.]\n",
            " [1. 0. 0.]\n",
            " [1. 0. 0.]\n",
            " [1. 0. 0.]]\n"
          ]
        }
      ]
    },
    {
      "cell_type": "code",
      "source": [
        "from tensorflow.keras.models import Sequential\n",
        "from tensorflow.keras.layers import Dense, Dropout, Flatten, Conv2D, MaxPooling2D\n",
        "from tensorflow.keras.callbacks import EarlyStopping\n",
        "\n",
        "model = Sequential()\n",
        "model.add(Conv2D(16, kernel_size = (3, 3), input_shape = (240, 240, 3), activation = 'relu'))\n",
        "model.add(MaxPooling2D(pool_size = (2, 2)))\n",
        "model.add(Dropout(0.25))\n",
        "model.add(Conv2D(32, kernel_size = (3, 3), activation = 'relu'))\n",
        "model.add(MaxPooling2D(pool_size = (2, 2)))\n",
        "model.add(Dropout(0.25))\n",
        "model.add(Flatten())\n",
        "model.add(Dense(512, activation = 'relu'))\n",
        "model.add(Dropout(0.5))\n",
        "model.add(Dense(3, activation = 'softmax'))\n",
        "model.summary()\n",
        "\n",
        "\n",
        "# 모델을 컴파일합니다.\n",
        "model.compile(loss='categorical_crossentropy', optimizer='adam', metrics=['accuracy'])\n",
        "\n",
        "# 조기 종료 \n",
        "early_stopping_callback = EarlyStopping(monitor = 'val_loss', patience = 15)\n",
        "\n",
        "# 모델을 실행합니다.\n",
        "\n",
        "history = model.fit(x = X_train, y = y_train, batch_size = 30, epochs = 50, validation_split = 0.15, verbose = 1, callbacks = early_stopping_callback ) \n",
        "\n",
        "print(\"\\n Test accuracy: {}.\".format(model.evaluate(X_test, y_test)[1]))\n",
        "\n"
      ],
      "metadata": {
        "colab": {
          "base_uri": "https://localhost:8080/"
        },
        "id": "yR5iam30BINg",
        "outputId": "1d78af9a-b0a5-4fd2-c2b8-e8d10f5acca7"
      },
      "execution_count": 209,
      "outputs": [
        {
          "output_type": "stream",
          "name": "stdout",
          "text": [
            "Model: \"sequential_34\"\n",
            "_________________________________________________________________\n",
            " Layer (type)                Output Shape              Param #   \n",
            "=================================================================\n",
            " conv2d_91 (Conv2D)          (None, 238, 238, 16)      448       \n",
            "                                                                 \n",
            " max_pooling2d_91 (MaxPoolin  (None, 119, 119, 16)     0         \n",
            " g2D)                                                            \n",
            "                                                                 \n",
            " dropout_125 (Dropout)       (None, 119, 119, 16)      0         \n",
            "                                                                 \n",
            " conv2d_92 (Conv2D)          (None, 117, 117, 32)      4640      \n",
            "                                                                 \n",
            " max_pooling2d_92 (MaxPoolin  (None, 58, 58, 32)       0         \n",
            " g2D)                                                            \n",
            "                                                                 \n",
            " dropout_126 (Dropout)       (None, 58, 58, 32)        0         \n",
            "                                                                 \n",
            " flatten_34 (Flatten)        (None, 107648)            0         \n",
            "                                                                 \n",
            " dense_68 (Dense)            (None, 512)               55116288  \n",
            "                                                                 \n",
            " dropout_127 (Dropout)       (None, 512)               0         \n",
            "                                                                 \n",
            " dense_69 (Dense)            (None, 3)                 1539      \n",
            "                                                                 \n",
            "=================================================================\n",
            "Total params: 55,122,915\n",
            "Trainable params: 55,122,915\n",
            "Non-trainable params: 0\n",
            "_________________________________________________________________\n",
            "Epoch 1/50\n",
            "21/21 [==============================] - 2s 65ms/step - loss: 18.0678 - accuracy: 0.3295 - val_loss: 1.1019 - val_accuracy: 0.1589\n",
            "Epoch 2/50\n",
            "21/21 [==============================] - 1s 49ms/step - loss: 1.1106 - accuracy: 0.3841 - val_loss: 1.1826 - val_accuracy: 0.0000e+00\n",
            "Epoch 3/50\n",
            "21/21 [==============================] - 1s 48ms/step - loss: 1.0472 - accuracy: 0.4338 - val_loss: 1.1669 - val_accuracy: 0.0093\n",
            "Epoch 4/50\n",
            "21/21 [==============================] - 1s 48ms/step - loss: 1.0000 - accuracy: 0.5149 - val_loss: 1.1731 - val_accuracy: 0.0654\n",
            "Epoch 5/50\n",
            "21/21 [==============================] - 1s 48ms/step - loss: 0.9260 - accuracy: 0.5464 - val_loss: 1.1526 - val_accuracy: 0.1402\n",
            "Epoch 6/50\n",
            "21/21 [==============================] - 1s 48ms/step - loss: 0.8303 - accuracy: 0.6225 - val_loss: 1.0860 - val_accuracy: 0.3738\n",
            "Epoch 7/50\n",
            "21/21 [==============================] - 1s 48ms/step - loss: 0.7225 - accuracy: 0.7103 - val_loss: 1.0283 - val_accuracy: 0.4766\n",
            "Epoch 8/50\n",
            "21/21 [==============================] - 1s 48ms/step - loss: 0.5945 - accuracy: 0.7649 - val_loss: 1.1111 - val_accuracy: 0.3832\n",
            "Epoch 9/50\n",
            "21/21 [==============================] - 1s 48ms/step - loss: 0.5163 - accuracy: 0.8129 - val_loss: 1.2484 - val_accuracy: 0.4112\n",
            "Epoch 10/50\n",
            "21/21 [==============================] - 1s 48ms/step - loss: 0.3695 - accuracy: 0.8725 - val_loss: 1.2543 - val_accuracy: 0.3832\n",
            "Epoch 11/50\n",
            "21/21 [==============================] - 1s 49ms/step - loss: 0.2866 - accuracy: 0.8990 - val_loss: 1.1476 - val_accuracy: 0.4766\n",
            "Epoch 12/50\n",
            "21/21 [==============================] - 1s 48ms/step - loss: 0.2389 - accuracy: 0.9354 - val_loss: 1.3998 - val_accuracy: 0.4766\n",
            "Epoch 13/50\n",
            "21/21 [==============================] - 1s 48ms/step - loss: 0.2383 - accuracy: 0.9288 - val_loss: 1.3758 - val_accuracy: 0.4299\n",
            "Epoch 14/50\n",
            "21/21 [==============================] - 1s 49ms/step - loss: 0.1752 - accuracy: 0.9553 - val_loss: 1.7334 - val_accuracy: 0.3925\n",
            "Epoch 15/50\n",
            "21/21 [==============================] - 1s 49ms/step - loss: 0.1311 - accuracy: 0.9586 - val_loss: 1.7390 - val_accuracy: 0.4206\n",
            "Epoch 16/50\n",
            "21/21 [==============================] - 1s 48ms/step - loss: 0.1176 - accuracy: 0.9636 - val_loss: 2.0847 - val_accuracy: 0.3364\n",
            "Epoch 17/50\n",
            "21/21 [==============================] - 1s 49ms/step - loss: 0.1073 - accuracy: 0.9669 - val_loss: 1.9004 - val_accuracy: 0.4206\n",
            "Epoch 18/50\n",
            "21/21 [==============================] - 1s 48ms/step - loss: 0.0863 - accuracy: 0.9818 - val_loss: 1.7471 - val_accuracy: 0.4579\n",
            "Epoch 19/50\n",
            "21/21 [==============================] - 1s 48ms/step - loss: 0.0553 - accuracy: 0.9917 - val_loss: 2.1620 - val_accuracy: 0.4019\n",
            "Epoch 20/50\n",
            "21/21 [==============================] - 1s 52ms/step - loss: 0.0504 - accuracy: 0.9884 - val_loss: 2.0369 - val_accuracy: 0.4206\n",
            "Epoch 21/50\n",
            "21/21 [==============================] - 1s 48ms/step - loss: 0.0718 - accuracy: 0.9801 - val_loss: 2.6059 - val_accuracy: 0.3271\n",
            "Epoch 22/50\n",
            "21/21 [==============================] - 1s 49ms/step - loss: 0.0680 - accuracy: 0.9868 - val_loss: 2.2804 - val_accuracy: 0.4019\n",
            "4/4 [==============================] - 0s 15ms/step - loss: 2.0765 - accuracy: 0.4912\n",
            "\n",
            " Test accuracy: 0.4912280738353729.\n"
          ]
        }
      ]
    },
    {
      "cell_type": "code",
      "source": [
        "plt.plot(history.history['loss'])\n",
        "plt.plot(history.history['val_loss'])\n",
        "plt.xlabel('epoch')\n",
        "plt.ylabel('loss')\n",
        "plt.legend(['train','val'])\n",
        "plt.show()"
      ],
      "metadata": {
        "colab": {
          "base_uri": "https://localhost:8080/",
          "height": 279
        },
        "id": "Q0DCsQBBBW7b",
        "outputId": "bd2ec7f6-a8a7-40e3-a388-5cd6cfc80c97"
      },
      "execution_count": 210,
      "outputs": [
        {
          "output_type": "display_data",
          "data": {
            "text/plain": [
              "<Figure size 432x288 with 1 Axes>"
            ],
            "image/png": "[encoded data removed]"
          },
          "metadata": {
            "needs_background": "light"
          }
        }
      ]
    },
    {
      "cell_type": "code",
      "source": [
        "plt.plot(history.history['accuracy'])\n",
        "plt.plot(history.history['val_accuracy'])\n",
        "plt.xlabel('epoch')\n",
        "plt.ylabel('accuracy')\n",
        "plt.legend(['train','val'])\n",
        "plt.show()"
      ],
      "metadata": {
        "colab": {
          "base_uri": "https://localhost:8080/",
          "height": 279
        },
        "id": "b5Jcuo5oBj1o",
        "outputId": "ec039779-d70b-490b-f029-2bb4a1269054"
      },
      "execution_count": 211,
      "outputs": [
        {
          "output_type": "display_data",
          "data": {
            "text/plain": [
              "<Figure size 432x288 with 1 Axes>"
            ],
            "image/png": "[encoded data removed]"
          },
          "metadata": {
            "needs_background": "light"
          }
        }
      ]
    },
    {
      "cell_type": "code",
      "source": [
        "# 한번만 실행해야됨. \n",
        "y_test=np.argmax(y_test, axis=1)\n",
        "\n",
        "print(y_test)"
      ],
      "metadata": {
        "colab": {
          "base_uri": "https://localhost:8080/"
        },
        "id": "8WoSHUDwBn5i",
        "outputId": "8948a73c-636b-47ae-c157-4bfffd49423f"
      },
      "execution_count": 212,
      "outputs": [
        {
          "output_type": "stream",
          "name": "stdout",
          "text": [
            "[0 0 0 0 0 0 0 0 0 0 0 0 0 0 0 0 0 0 0 0 0 0 0 0 0 0 0 0 0 0 0 0 0 0 0 0 0\n",
            " 0 1 1 1 1 1 1 1 1 1 1 1 1 1 1 1 1 1 1 1 1 1 1 1 1 1 1 1 1 1 1 1 1 1 1 1 1\n",
            " 1 1 2 2 2 2 2 2 2 2 2 2 2 2 2 2 2 2 2 2 2 2 2 2 2 2 2 2 2 2 2 2 2 2 2 2 2\n",
            " 2 2 2]\n"
          ]
        }
      ]
    },
    {
      "cell_type": "code",
      "source": [
        "from sklearn.metrics import confusion_matrix\n",
        "\n",
        "y_pred=model.predict(X_test) \n",
        "y_pred=np.argmax(y_pred, axis=1)\n",
        "\n",
        "print(y_pred)"
      ],
      "metadata": {
        "colab": {
          "base_uri": "https://localhost:8080/"
        },
        "id": "kJ_mXhZwEoDu",
        "outputId": "ec9de05c-d5ea-4a3a-c1db-b7165b19affc"
      },
      "execution_count": 214,
      "outputs": [
        {
          "output_type": "stream",
          "name": "stdout",
          "text": [
            "4/4 [==============================] - 0s 17ms/step\n",
            "[1 1 0 0 0 0 2 0 2 1 1 1 0 0 2 2 1 0 2 1 0 2 0 0 0 0 0 2 1 1 1 0 0 0 2 1 1\n",
            " 0 2 0 1 2 1 1 1 1 0 1 2 0 1 1 1 1 1 1 0 1 0 1 0 2 2 1 1 2 1 0 2 1 2 1 1 2\n",
            " 1 1 2 0 0 0 2 1 2 2 2 2 2 1 2 2 0 2 1 0 1 2 0 2 0 0 2 1 1 0 1 2 1 0 1 2 2\n",
            " 1 1 1]\n"
          ]
        }
      ]
    },
    {
      "cell_type": "code",
      "source": [
        "cm = confusion_matrix(y_test, y_pred)\n",
        "\n",
        "print(cm)"
      ],
      "metadata": {
        "colab": {
          "base_uri": "https://localhost:8080/"
        },
        "id": "7RPX0NFKB8vk",
        "outputId": "32765f62-cba4-40b7-8ccf-08db8481cbd9"
      },
      "execution_count": 215,
      "outputs": [
        {
          "output_type": "stream",
          "name": "stdout",
          "text": [
            "[[18 12  8]\n",
            " [ 7 22  9]\n",
            " [10 12 16]]\n"
          ]
        }
      ]
    },
    {
      "cell_type": "code",
      "source": [
        "import seaborn as sns\n",
        "\n",
        "ax = sns.heatmap(cm,annot = True, fmt = \"d\",cmap= 'Blues')\n",
        "plt.xlabel(\"Predict\")\n",
        "plt.ylabel(\"True\")\n",
        "plt.xticks([0.5,1.5,2.5],['adidas', 'converse','nike'])\n",
        "plt.yticks([0.5,1.5,2.5],['adidas', 'converse','nike'])\n",
        "plt.show()"
      ],
      "metadata": {
        "colab": {
          "base_uri": "https://localhost:8080/",
          "height": 283
        },
        "id": "08eZ2uksCmuQ",
        "outputId": "c05728ff-806c-4761-9d28-f7ab5059d908"
      },
      "execution_count": 216,
      "outputs": [
        {
          "output_type": "display_data",
          "data": {
            "text/plain": [
              "<Figure size 432x288 with 2 Axes>"
            ],
            "image/png": "[encoded data removed]"
          },
          "metadata": {
            "needs_background": "light"
          }
        }
      ]
    }
  ]
}